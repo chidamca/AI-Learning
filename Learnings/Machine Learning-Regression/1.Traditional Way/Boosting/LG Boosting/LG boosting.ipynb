{
 "cells": [
  {
   "cell_type": "code",
   "execution_count": 7,
   "id": "d7429d75-d16e-4482-83a4-620eb4e1c004",
   "metadata": {},
   "outputs": [],
   "source": [
    "from lightgbm import LGBMRegressor"
   ]
  },
  {
   "cell_type": "code",
   "execution_count": 9,
   "id": "ce5851b1-da65-41b5-aaaf-1f9c6c1fa681",
   "metadata": {},
   "outputs": [],
   "source": [
    "import pandas as pd\n",
    "from sklearn.model_selection import train_test_split\n",
    "from xgboost import XGBRegressor\n",
    "from sklearn.metrics import r2_score"
   ]
  },
  {
   "cell_type": "code",
   "execution_count": 15,
   "id": "9d4715a2-87c2-44ee-9940-bf4efa3cacce",
   "metadata": {},
   "outputs": [
    {
     "data": {
      "text/plain": [
       "Index(['age', 'sex', 'bmi', 'children', 'smoker', 'charges'], dtype='object')"
      ]
     },
     "execution_count": 15,
     "metadata": {},
     "output_type": "execute_result"
    }
   ],
   "source": [
    "dataSet = pd.read_csv(\"insurance.csv\")\n",
    "dataSet['sex'] = dataSet['sex'].map({'male': 0, 'female': 1})\n",
    "dataSet['smoker'] = dataSet['smoker'].map({'yes': 0, 'no': 1})\n",
    "dataSet.columns"
   ]
  },
  {
   "cell_type": "code",
   "execution_count": null,
   "id": "ebac818a-5310-493a-9284-f91e7f84c08f",
   "metadata": {},
   "outputs": [],
   "source": []
  },
  {
   "cell_type": "code",
   "execution_count": 18,
   "id": "4f7771ce-d0d9-4391-bc7c-ede78e46259f",
   "metadata": {},
   "outputs": [],
   "source": [
    "independent =dataSet[['age', 'sex', 'bmi', 'children', 'smoker']]\n",
    "dependent =dataSet[['charges']]\n",
    "x_train,x_test,y_train,y_test = train_test_split(independent,dependent,test_size=0.20, random_state=0)"
   ]
  },
  {
   "cell_type": "code",
   "execution_count": 57,
   "id": "477d40e9-8b5f-425b-a9df-4bbebafcc05f",
   "metadata": {},
   "outputs": [
    {
     "name": "stdout",
     "output_type": "stream",
     "text": [
      "[LightGBM] [Info] Auto-choosing col-wise multi-threading, the overhead of testing was 0.000086 seconds.\n",
      "You can set `force_col_wise=true` to remove the overhead.\n",
      "[LightGBM] [Info] Total Bins 313\n",
      "[LightGBM] [Info] Number of data points in the train set: 1070, number of used features: 5\n",
      "[LightGBM] [Info] Start training from score 13201.182046\n"
     ]
    }
   ],
   "source": [
    "regressor = LGBMRegressor(boosting_type='gbdt',metric='rmse')\n",
    "adb_model = regressor.fit(x_train,y_train)"
   ]
  },
  {
   "cell_type": "code",
   "execution_count": 59,
   "id": "cbf63bf6-0385-494a-a6f7-c393e8185734",
   "metadata": {},
   "outputs": [],
   "source": [
    "y_pred=adb_model.predict(x_test)"
   ]
  },
  {
   "cell_type": "code",
   "execution_count": 61,
   "id": "18bbaf25-3063-41c2-a622-9ee3729fcea8",
   "metadata": {},
   "outputs": [
    {
     "data": {
      "text/plain": [
       "0.8873273674764157"
      ]
     },
     "execution_count": 61,
     "metadata": {},
     "output_type": "execute_result"
    }
   ],
   "source": [
    "rscore =r2_score(y_test,y_pred)\n",
    "rscore"
   ]
  },
  {
   "cell_type": "code",
   "execution_count": null,
   "id": "107deb05-c1eb-48e9-9f39-db925d7b68e6",
   "metadata": {},
   "outputs": [],
   "source": []
  },
  {
   "cell_type": "code",
   "execution_count": null,
   "id": "68d4ee60-f0ef-4cf0-94f5-8f57cabd5d99",
   "metadata": {},
   "outputs": [],
   "source": []
  }
 ],
 "metadata": {
  "kernelspec": {
   "display_name": "Python [conda env:base] *",
   "language": "python",
   "name": "conda-base-py"
  },
  "language_info": {
   "codemirror_mode": {
    "name": "ipython",
    "version": 3
   },
   "file_extension": ".py",
   "mimetype": "text/x-python",
   "name": "python",
   "nbconvert_exporter": "python",
   "pygments_lexer": "ipython3",
   "version": "3.12.7"
  }
 },
 "nbformat": 4,
 "nbformat_minor": 5
}
