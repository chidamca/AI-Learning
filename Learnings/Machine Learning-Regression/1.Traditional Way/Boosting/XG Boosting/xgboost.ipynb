{
 "cells": [
  {
   "cell_type": "code",
   "execution_count": 67,
   "id": "f150be12-1561-42ea-a2cc-9772b70b065b",
   "metadata": {},
   "outputs": [],
   "source": [
    "import pandas as pd\n",
    "from sklearn.model_selection import train_test_split\n",
    "from xgboost import XGBRegressor\n",
    "from sklearn.metrics import r2_score"
   ]
  },
  {
   "cell_type": "code",
   "execution_count": 69,
   "id": "5434ee90-2eab-4f28-be33-d7d901df3149",
   "metadata": {},
   "outputs": [
    {
     "data": {
      "text/plain": [
       "Index(['age', 'sex', 'bmi', 'children', 'smoker', 'charges'], dtype='object')"
      ]
     },
     "execution_count": 69,
     "metadata": {},
     "output_type": "execute_result"
    }
   ],
   "source": [
    "dataSet = pd.read_csv(\"insurance.csv\")\n",
    "dataSet['sex'] = dataSet['sex'].map({'male': 0, 'female': 1})\n",
    "dataSet['smoker'] = dataSet['smoker'].map({'yes': 0, 'no': 1})\n",
    "dataSet.columns"
   ]
  },
  {
   "cell_type": "code",
   "execution_count": 90,
   "id": "ea68ca8b-1d27-438d-9abb-ad70cbf78ac0",
   "metadata": {},
   "outputs": [],
   "source": [
    "independent =dataSet[['age', 'sex', 'bmi', 'children', 'smoker']]\n",
    "dependent =dataSet[['charges']]\n",
    "x_train,x_test,y_train,y_test = train_test_split(independent,dependent,test_size=0.20, random_state=0)"
   ]
  },
  {
   "cell_type": "code",
   "execution_count": 100,
   "id": "a3b36409-5139-4fd8-8167-0816758d094e",
   "metadata": {},
   "outputs": [
    {
     "name": "stderr",
     "output_type": "stream",
     "text": [
      "C:\\Users\\chida\\anaconda3\\Lib\\site-packages\\xgboost\\core.py:158: UserWarning: [15:08:45] WARNING: C:\\buildkite-agent\\builds\\buildkite-windows-cpu-autoscaling-group-i-0c55ff5f71b100e98-1\\xgboost\\xgboost-ci-windows\\src\\objective\\regression_obj.cu:227: reg:linear is now deprecated in favor of reg:squarederror.\n",
      "  warnings.warn(smsg, UserWarning)\n"
     ]
    }
   ],
   "source": [
    "regressor = XGBRegressor(objective ='reg:linear', \n",
    "                  n_estimators = 10, seed = 200)\n",
    "adb_model = regressor.fit(x_train,y_train)"
   ]
  },
  {
   "cell_type": "code",
   "execution_count": 102,
   "id": "d931f796-65b6-41a7-85e4-6c3f541379fe",
   "metadata": {},
   "outputs": [],
   "source": [
    "y_pred=adb_model.predict(x_test)"
   ]
  },
  {
   "cell_type": "code",
   "execution_count": 104,
   "id": "a3d32416-cc4a-4e07-bfbc-53ee76d5e78f",
   "metadata": {},
   "outputs": [],
   "source": [
    "rscore =r2_score(y_test,y_pred)"
   ]
  },
  {
   "cell_type": "code",
   "execution_count": 106,
   "id": "bfa35265-bdf9-49c0-94e9-d7f1bb0859e2",
   "metadata": {},
   "outputs": [
    {
     "data": {
      "text/plain": [
       "0.89187091588974"
      ]
     },
     "execution_count": 106,
     "metadata": {},
     "output_type": "execute_result"
    }
   ],
   "source": [
    "rscore"
   ]
  },
  {
   "cell_type": "code",
   "execution_count": null,
   "id": "1dbfcefc-2cf8-4b1d-b038-79cc1b63f899",
   "metadata": {},
   "outputs": [],
   "source": []
  },
  {
   "cell_type": "code",
   "execution_count": null,
   "id": "9f0bfd91-218d-4f09-894b-6822d683b548",
   "metadata": {},
   "outputs": [],
   "source": []
  }
 ],
 "metadata": {
  "kernelspec": {
   "display_name": "Python [conda env:base] *",
   "language": "python",
   "name": "conda-base-py"
  },
  "language_info": {
   "codemirror_mode": {
    "name": "ipython",
    "version": 3
   },
   "file_extension": ".py",
   "mimetype": "text/x-python",
   "name": "python",
   "nbconvert_exporter": "python",
   "pygments_lexer": "ipython3",
   "version": "3.12.7"
  }
 },
 "nbformat": 4,
 "nbformat_minor": 5
}
