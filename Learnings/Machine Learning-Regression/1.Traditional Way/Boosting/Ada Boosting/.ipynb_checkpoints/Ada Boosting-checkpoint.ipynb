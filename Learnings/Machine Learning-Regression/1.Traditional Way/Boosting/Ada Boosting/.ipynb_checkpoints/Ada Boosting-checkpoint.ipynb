{
 "cells": [
  {
   "cell_type": "code",
   "execution_count": 334,
   "id": "6e010111-aa78-4bc5-822b-727549aeaa62",
   "metadata": {},
   "outputs": [],
   "source": [
    "import pandas as pd\n",
    "from sklearn.model_selection import train_test_split\n",
    "from sklearn.ensemble import AdaBoostRegressor\n",
    "from sklearn.metrics import r2_score"
   ]
  },
  {
   "cell_type": "code",
   "execution_count": 368,
   "id": "3b21292a-6078-416e-93af-19e3bb8a5f97",
   "metadata": {},
   "outputs": [
    {
     "data": {
      "text/plain": [
       "Index(['age', 'sex', 'bmi', 'children', 'smoker', 'charges'], dtype='object')"
      ]
     },
     "execution_count": 368,
     "metadata": {},
     "output_type": "execute_result"
    }
   ],
   "source": [
    "dataSet = pd.read_csv(\"insurance.csv\")\n",
    "\n",
    "dataSet['sex'] = dataSet['sex'].map({'male': 0, 'female': 1})\n",
    "dataSet['smoker'] = dataSet['smoker'].map({'yes': 0, 'no': 1})\n",
    "#dataSet = pd.get_dummies(dataSet)\n",
    "\n",
    "dataSet.columns\n"
   ]
  },
  {
   "cell_type": "code",
   "execution_count": 462,
   "id": "847ff078-3e56-41bc-9204-04c666b0c969",
   "metadata": {},
   "outputs": [],
   "source": [
    "independent =dataSet[['age', 'sex', 'bmi', 'children', 'smoker']]\n",
    "dependent =dataSet[['charges']]\n",
    "x_train,x_test,y_train,y_test = train_test_split(independent,dependent,test_size=0.50, random_state=28)"
   ]
  },
  {
   "cell_type": "code",
   "execution_count": 464,
   "id": "fc3a38e4-7d39-46c4-814a-a75ebafea58a",
   "metadata": {},
   "outputs": [
    {
     "name": "stderr",
     "output_type": "stream",
     "text": [
      "C:\\Users\\chida\\anaconda3\\Lib\\site-packages\\sklearn\\utils\\validation.py:1339: DataConversionWarning: A column-vector y was passed when a 1d array was expected. Please change the shape of y to (n_samples, ), for example using ravel().\n",
      "  y = column_or_1d(y, warn=True)\n"
     ]
    }
   ],
   "source": [
    "dataSet\n",
    "adb_model = regressor.fit(x_train,y_train)"
   ]
  },
  {
   "cell_type": "code",
   "execution_count": 466,
   "id": "c62cf7ee-77ff-4f0a-8dea-8daa2a2e079f",
   "metadata": {},
   "outputs": [],
   "source": [
    "y_pred=adb_model.predict(x_test)"
   ]
  },
  {
   "cell_type": "code",
   "execution_count": 468,
   "id": "9741beb4-3a52-4089-aac0-ed9edfa0a8c3",
   "metadata": {},
   "outputs": [],
   "source": [
    "rscore =r2_score(y_test,y_pred)"
   ]
  },
  {
   "cell_type": "code",
   "execution_count": 470,
   "id": "06f3351c-03fd-4490-8248-dcc07b6b483c",
   "metadata": {},
   "outputs": [
    {
     "data": {
      "text/plain": [
       "0.832292007681313"
      ]
     },
     "execution_count": 470,
     "metadata": {},
     "output_type": "execute_result"
    }
   ],
   "source": [
    "rscore"
   ]
  },
  {
   "cell_type": "code",
   "execution_count": null,
   "id": "3a8b904e-9fa9-45fd-bda8-9b22b79eba2f",
   "metadata": {},
   "outputs": [],
   "source": []
  },
  {
   "cell_type": "code",
   "execution_count": null,
   "id": "5b02253f-e682-4399-9987-7cb53a735398",
   "metadata": {},
   "outputs": [],
   "source": []
  }
 ],
 "metadata": {
  "kernelspec": {
   "display_name": "Python [conda env:base] *",
   "language": "python",
   "name": "conda-base-py"
  },
  "language_info": {
   "codemirror_mode": {
    "name": "ipython",
    "version": 3
   },
   "file_extension": ".py",
   "mimetype": "text/x-python",
   "name": "python",
   "nbconvert_exporter": "python",
   "pygments_lexer": "ipython3",
   "version": "3.12.7"
  }
 },
 "nbformat": 4,
 "nbformat_minor": 5
}
