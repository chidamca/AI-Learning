{
 "cells": [
  {
   "cell_type": "code",
   "execution_count": 1,
   "id": "8ceba1da-6906-4788-b5d1-47e263bcb8ff",
   "metadata": {},
   "outputs": [],
   "source": [
    "import pandas as pd\n",
    "from sklearn.model_selection import train_test_split\n",
    "from sklearn.ensemble import RandomForestRegressor\n",
    "from sklearn.metrics import r2_score\n",
    "import pickle"
   ]
  },
  {
   "cell_type": "code",
   "execution_count": 2,
   "id": "d156cdfe-7788-400e-8d12-23bbde1baacf",
   "metadata": {},
   "outputs": [],
   "source": [
    "dataSet = pd.read_csv(\"insurance.csv\")"
   ]
  },
  {
   "cell_type": "code",
   "execution_count": 3,
   "id": "59166fe0-3547-4918-9d8b-d14c4661de38",
   "metadata": {},
   "outputs": [],
   "source": [
    "dataSet['sex'] = dataSet['sex'].map({'male': 0, 'female': 1})\n",
    "dataSet['smoker'] = dataSet['smoker'].map({'yes': 0, 'no': 1})\n",
    "dataSet.columns\n",
    "independent =dataSet[['age', 'sex', 'bmi', 'children', 'smoker']]\n",
    "dependent =dataSet[['charges']]\n",
    "x_train,x_test,y_train,y_test = train_test_split(independent,dependent,test_size=0.30, random_state=0)"
   ]
  },
  {
   "cell_type": "code",
   "execution_count": 7,
   "id": "c76e4aee-c2de-45db-929d-7274e8885755",
   "metadata": {},
   "outputs": [
    {
     "name": "stderr",
     "output_type": "stream",
     "text": [
      "C:\\Users\\chida\\anaconda3\\Lib\\site-packages\\sklearn\\base.py:1473: DataConversionWarning: A column-vector y was passed when a 1d array was expected. Please change the shape of y to (n_samples,), for example using ravel().\n",
      "  return fit_method(estimator, *args, **kwargs)\n"
     ]
    }
   ],
   "source": [
    "regressor = RandomForestRegressor(n_estimators=50, random_state = 0)\n",
    "regressor = regressor.fit(x_train,y_train)"
   ]
  },
  {
   "cell_type": "code",
   "execution_count": 9,
   "id": "8aa76022-0867-40e3-9826-312caa257522",
   "metadata": {},
   "outputs": [
    {
     "data": {
      "text/plain": [
       "0.8505475436721328"
      ]
     },
     "execution_count": 9,
     "metadata": {},
     "output_type": "execute_result"
    }
   ],
   "source": [
    "y_pred=regressor.predict(x_test)\n",
    "rscore =r2_score(y_test,y_pred)\n",
    "rscore"
   ]
  },
  {
   "cell_type": "code",
   "execution_count": null,
   "id": "b99edd2d-2f3a-4a68-a7e5-55109df5ae5c",
   "metadata": {},
   "outputs": [],
   "source": []
  }
 ],
 "metadata": {
  "kernelspec": {
   "display_name": "Python [conda env:base] *",
   "language": "python",
   "name": "conda-base-py"
  },
  "language_info": {
   "codemirror_mode": {
    "name": "ipython",
    "version": 3
   },
   "file_extension": ".py",
   "mimetype": "text/x-python",
   "name": "python",
   "nbconvert_exporter": "python",
   "pygments_lexer": "ipython3",
   "version": "3.12.7"
  }
 },
 "nbformat": 4,
 "nbformat_minor": 5
}
