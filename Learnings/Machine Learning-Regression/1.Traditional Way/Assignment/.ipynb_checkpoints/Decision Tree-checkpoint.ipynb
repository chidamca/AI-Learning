{
 "cells": [
  {
   "cell_type": "code",
   "execution_count": 31,
   "id": "c05a1820-d710-4561-bc02-1c0d902b9f8e",
   "metadata": {},
   "outputs": [],
   "source": [
    "import pandas as pd\n",
    "from sklearn.model_selection import train_test_split\n",
    "from sklearn.metrics import r2_score\n",
    "from sklearn.tree import DecisionTreeRegressor\n",
    "import matplotlib.pyplot as plt\n",
    "from sklearn import tree"
   ]
  },
  {
   "cell_type": "code",
   "execution_count": 33,
   "id": "6f4b47f3-5698-4907-acda-c7954476ca93",
   "metadata": {},
   "outputs": [],
   "source": [
    "dataSet = pd.read_csv(\"insurance.csv\")"
   ]
  },
  {
   "cell_type": "code",
   "execution_count": 35,
   "id": "030db0e4-6648-4acf-a12a-76ccf7d06443",
   "metadata": {},
   "outputs": [],
   "source": [
    "dataSet['sex'] = dataSet['sex'].map({'male': 0, 'female': 1})\n",
    "dataSet['smoker'] = dataSet['smoker'].map({'yes': 0, 'no': 1})\n",
    "dataSet.columns\n",
    "independent =dataSet[['age', 'sex', 'bmi', 'children', 'smoker']]\n",
    "dependent =dataSet[['charges']]\n",
    "x_train,x_test,y_train,y_test = train_test_split(independent,dependent,test_size=0.30, random_state=0)"
   ]
  },
  {
   "cell_type": "code",
   "execution_count": 51,
   "id": "2ac3434b-6183-40e4-9beb-3c1d9f20468f",
   "metadata": {},
   "outputs": [
    {
     "name": "stdout",
     "output_type": "stream",
     "text": [
      "0.767326577185502\n",
      "0.7678654198669969\n",
      "0.7922095911875002\n",
      "0.8135649413686699\n"
     ]
    }
   ],
   "source": [
    "finalresult = -0\n",
    "for x in range(1000):\n",
    "    #regessor = DecisionTreeRegressor()\n",
    "    #regessor = DecisionTreeRegressor(criterion = 'squared_error', splitter=\"random\")\n",
    "    #regessor = DecisionTreeRegressor(criterion = 'squared_error', splitter=\"best\")\n",
    "    #regessor = DecisionTreeRegressor(criterion = 'friedman_mse', splitter=\"best\")\n",
    "    #regessor = DecisionTreeRegressor(criterion = 'friedman_mse', splitter=\"random\")\n",
    "    #regessor = DecisionTreeRegressor(criterion = 'absolute_error', splitter=\"best\")\n",
    "    #regessor = DecisionTreeRegressor(criterion = 'absolute_error', splitter=\"random\")\n",
    "    #regessor = DecisionTreeRegressor(criterion = 'poisson', splitter=\"best\")\n",
    "    regessor = DecisionTreeRegressor(criterion = 'poisson', splitter=\"random\")\n",
    "    regessor = regessor.fit(x_train,y_train)\n",
    "    \n",
    "    #Show tree\n",
    "    #tree.plot_tree(regessor)\n",
    "    y_pred = regessor.predict(x_test)\n",
    "\n",
    "\n",
    "    rscore =r2_score(y_test,y_pred)\n",
    "    if rscore > finalresult:\n",
    "        finalresult = rscore\n",
    "        print(finalresult)"
   ]
  },
  {
   "cell_type": "code",
   "execution_count": null,
   "id": "b5eb5f52-25bb-4896-be94-939990d125fa",
   "metadata": {},
   "outputs": [],
   "source": [
    "\n",
    "\n"
   ]
  }
 ],
 "metadata": {
  "kernelspec": {
   "display_name": "Python [conda env:base] *",
   "language": "python",
   "name": "conda-base-py"
  },
  "language_info": {
   "codemirror_mode": {
    "name": "ipython",
    "version": 3
   },
   "file_extension": ".py",
   "mimetype": "text/x-python",
   "name": "python",
   "nbconvert_exporter": "python",
   "pygments_lexer": "ipython3",
   "version": "3.12.7"
  }
 },
 "nbformat": 4,
 "nbformat_minor": 5
}
