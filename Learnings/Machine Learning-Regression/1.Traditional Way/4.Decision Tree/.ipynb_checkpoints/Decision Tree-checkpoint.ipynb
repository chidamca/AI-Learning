{
 "cells": [
  {
   "cell_type": "code",
   "execution_count": 3,
   "id": "b8f9090b-bd63-434f-b0b5-c377ebccec26",
   "metadata": {},
   "outputs": [],
   "source": [
    "import pandas as pd"
   ]
  },
  {
   "cell_type": "code",
   "execution_count": 5,
   "id": "f5bff2a5-9cdd-47cf-bb5a-5452b2d90d58",
   "metadata": {},
   "outputs": [],
   "source": [
    "dataset = pd.read_csv(\"50_Startups.csv\")"
   ]
  },
  {
   "cell_type": "code",
   "execution_count": 7,
   "id": "3bb576c3-de75-40d8-9ad2-33a28d6b9112",
   "metadata": {},
   "outputs": [],
   "source": [
    "dataset = pd.get_dummies(dataset,drop_first=True)\n"
   ]
  },
  {
   "cell_type": "code",
   "execution_count": 13,
   "id": "95004ca7-3712-499c-8978-af1271540b74",
   "metadata": {},
   "outputs": [
    {
     "data": {
      "text/plain": [
       "Index(['R&D Spend', 'Administration', 'Marketing Spend', 'Profit',\n",
       "       'State_Florida', 'State_New York'],\n",
       "      dtype='object')"
      ]
     },
     "execution_count": 13,
     "metadata": {},
     "output_type": "execute_result"
    }
   ],
   "source": [
    "dataset.columns"
   ]
  },
  {
   "cell_type": "code",
   "execution_count": 15,
   "id": "5254b806-33cc-423f-ba01-27264ea7eb13",
   "metadata": {},
   "outputs": [],
   "source": [
    "independent = dataset[['R&D Spend', 'Administration', 'Marketing Spend', 'State_Florida', 'State_New York']]"
   ]
  },
  {
   "cell_type": "code",
   "execution_count": 17,
   "id": "a0a7dad8-b6cb-4796-ad87-b9e7b0e22f14",
   "metadata": {},
   "outputs": [],
   "source": [
    "dependent = dataset[[\"Profit\"]]"
   ]
  },
  {
   "cell_type": "code",
   "execution_count": 19,
   "id": "755ce4b1-cbf8-4e80-bdda-622b959c1ae5",
   "metadata": {},
   "outputs": [],
   "source": [
    "from sklearn.model_selection import train_test_split"
   ]
  },
  {
   "cell_type": "code",
   "execution_count": 20,
   "id": "60192aa7-201b-44dd-afad-5c83d4fc2910",
   "metadata": {},
   "outputs": [],
   "source": [
    "from sklearn.model_selection import train_test_split\n",
    "x_train,x_test,y_train,y_test = train_test_split(independent,dependent,test_size=0.30, random_state=0)"
   ]
  },
  {
   "cell_type": "code",
   "execution_count": null,
   "id": "a4c8fecb-ae47-4eda-a3c1-de0501512f9a",
   "metadata": {},
   "outputs": [],
   "source": [
    "\n"
   ]
  },
  {
   "cell_type": "code",
   "execution_count": 24,
   "id": "447b3739-d597-4c52-8cdd-3b9f89b9c878",
   "metadata": {},
   "outputs": [
    {
     "name": "stdout",
     "output_type": "stream",
     "text": [
      "0.920384575506665\n",
      "0.9285094831442126\n",
      "0.9394589090576303\n",
      "0.9434305914234801\n",
      "0.9474739882722208\n",
      "0.9477150392465098\n",
      "0.9480479075501071\n",
      "0.9545839964466001\n"
     ]
    }
   ],
   "source": [
    "finalresult = -0\n",
    "from sklearn.tree import DecisionTreeRegressor\n",
    "import matplotlib.pyplot as plt\n",
    "from sklearn import tree\n",
    "from sklearn.metrics import r2_score\n",
    "\n",
    "\n",
    "\n",
    "for x in range(1000):\n",
    "    regessor = DecisionTreeRegressor()\n",
    "    #regessor = DecisionTreeRegressor(criterion = 'squared_error', splitter=\"random\")\n",
    "    #regessor = DecisionTreeRegressor(criterion = 'squared_error', splitter=\"best\")\n",
    "    #regessor = DecisionTreeRegressor(criterion = 'friedman_mse', splitter=\"best\")\n",
    "    #regessor = DecisionTreeRegressor(criterion = 'friedman_mse', splitter=\"random\")\n",
    "    #regessor = DecisionTreeRegressor(criterion = 'absolute_error', splitter=\"best\")\n",
    "    #regessor = DecisionTreeRegressor(criterion = 'absolute_error', splitter=\"random\")\n",
    "    #regessor = DecisionTreeRegressor(criterion = 'poisson', splitter=\"best\")\n",
    "    #regessor = DecisionTreeRegressor(criterion = 'poisson', splitter=\"random\")\n",
    "    regessor = regessor.fit(x_train,y_train)\n",
    "    \n",
    "    #Show tree\n",
    "    #tree.plot_tree(regessor)\n",
    "    y_pred = regessor.predict(x_test)\n",
    "\n",
    "\n",
    "    rscore =r2_score(y_test,y_pred)\n",
    "    if rscore > finalresult:\n",
    "        finalresult = rscore\n",
    "        print(finalresult)\n"
   ]
  },
  {
   "cell_type": "code",
   "execution_count": null,
   "id": "818046c6-9971-4596-b56e-a79e78991afd",
   "metadata": {},
   "outputs": [],
   "source": []
  },
  {
   "cell_type": "code",
   "execution_count": null,
   "id": "6cab42e9-b11e-4410-b640-dc4df461f3c7",
   "metadata": {},
   "outputs": [],
   "source": []
  }
 ],
 "metadata": {
  "kernelspec": {
   "display_name": "Python [conda env:base] *",
   "language": "python",
   "name": "conda-base-py"
  },
  "language_info": {
   "codemirror_mode": {
    "name": "ipython",
    "version": 3
   },
   "file_extension": ".py",
   "mimetype": "text/x-python",
   "name": "python",
   "nbconvert_exporter": "python",
   "pygments_lexer": "ipython3",
   "version": "3.12.7"
  }
 },
 "nbformat": 4,
 "nbformat_minor": 5
}
