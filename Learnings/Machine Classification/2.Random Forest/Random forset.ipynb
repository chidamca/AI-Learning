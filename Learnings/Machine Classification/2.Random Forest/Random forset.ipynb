{
 "cells": [
  {
   "cell_type": "code",
   "execution_count": 44,
   "id": "de8a2b0c-bb44-4a6a-b517-7a30dbda1af4",
   "metadata": {},
   "outputs": [],
   "source": [
    "import pandas as pd\n",
    "from sklearn.model_selection import train_test_split\n",
    "from sklearn.ensemble import RandomForestClassifier\n",
    "from sklearn.metrics import confusion_matrix, ConfusionMatrixDisplay\n",
    "from sklearn.metrics import classification_report\n",
    "import pickle"
   ]
  },
  {
   "cell_type": "code",
   "execution_count": 46,
   "id": "bc3f1ff5-19b8-4954-8ae2-5b1f9d0a4a0a",
   "metadata": {},
   "outputs": [
    {
     "data": {
      "text/plain": [
       "Index(['User ID', 'Gender', 'Age', 'EstimatedSalary', 'Purchased'], dtype='object')"
      ]
     },
     "execution_count": 46,
     "metadata": {},
     "output_type": "execute_result"
    }
   ],
   "source": [
    "dataset = pd.read_csv(\"Social_Network_Ads.csv\")\n",
    "dataset.columns"
   ]
  },
  {
   "cell_type": "code",
   "execution_count": 48,
   "id": "c80d5897-d570-41d7-ad47-041e63a374ae",
   "metadata": {},
   "outputs": [],
   "source": [
    "dataset = pd.get_dummies(dataset,drop_first=True)\n",
    "dataset = dataset.drop(\"User ID\", axis=1)"
   ]
  },
  {
   "cell_type": "code",
   "execution_count": 50,
   "id": "dae12e7a-1c59-4c8e-941f-005df665f9a2",
   "metadata": {},
   "outputs": [],
   "source": [
    "independent = dataset[['Age', 'EstimatedSalary','Gender_Male']]\n",
    "dependent = dataset[['Purchased']]\n"
   ]
  },
  {
   "cell_type": "code",
   "execution_count": 52,
   "id": "f9c29967-45c7-4b4e-bd7b-d171090e53c9",
   "metadata": {},
   "outputs": [],
   "source": [
    "x_train,x_test,y_train,y_test = train_test_split(independent,dependent,test_size=0.30, random_state=0)"
   ]
  },
  {
   "cell_type": "code",
   "execution_count": 54,
   "id": "931aa628-52af-405f-8706-11888490f4e7",
   "metadata": {},
   "outputs": [
    {
     "data": {
      "text/plain": [
       "Purchased\n",
       "0    257\n",
       "1    143\n",
       "Name: count, dtype: int64"
      ]
     },
     "execution_count": 54,
     "metadata": {},
     "output_type": "execute_result"
    }
   ],
   "source": [
    "dataset[\"Purchased\"].value_counts()\n"
   ]
  },
  {
   "cell_type": "code",
   "execution_count": 56,
   "id": "0244944f-e6d2-49b3-baf4-2f63df963219",
   "metadata": {},
   "outputs": [
    {
     "name": "stderr",
     "output_type": "stream",
     "text": [
      "C:\\Users\\chida\\anaconda3\\Lib\\site-packages\\sklearn\\base.py:1473: DataConversionWarning: A column-vector y was passed when a 1d array was expected. Please change the shape of y to (n_samples,), for example using ravel().\n",
      "  return fit_method(estimator, *args, **kwargs)\n"
     ]
    }
   ],
   "source": [
    "model = RandomForestClassifier(\n",
    "    n_estimators=200,  # 200 மரங்கள்\n",
    "    criterion=\"gini\",  # ஜினி இம்பியூரிட்டி\n",
    "    max_depth=10,      # ஒவ்வொரு மரத்தின் அதிகபட்ச ஆழம் 10\n",
    "    min_samples_split=5,  # ஒரு நோட் பிரிய குறைந்தபட்ச 5 மாதிரிகள்\n",
    "    min_samples_leaf=2,   # ஒரு இலை நோடில் குறைந்தபட்ச 2 மாதிரிகள்\n",
    "    max_features=\"sqrt\",  # features-இன் வர்க்கமூலம் பயன்படுத்தப்படும்\n",
    "    bootstrap=True,       # bootstrap முறை பயன்படுத்தப்படும்\n",
    "    oob_score=True,       # OOB மதிப்பீடு செய்யப்படும்\n",
    "    random_state=42,      # ரேண்டம் சீட்\n",
    "    class_weight=\"balanced\"  # கிளாஸ் எடைகள் சமப்படுத்தப்படும்\n",
    ")\n",
    "\n",
    "classifier = model.fit(x_train,y_train)"
   ]
  },
  {
   "cell_type": "code",
   "execution_count": 78,
   "id": "1905a955-e1bf-4136-aa54-bc9c447db981",
   "metadata": {},
   "outputs": [
    {
     "data": {
      "text/plain": [
       "array([[72,  7],\n",
       "       [ 4, 37]], dtype=int64)"
      ]
     },
     "execution_count": 78,
     "metadata": {},
     "output_type": "execute_result"
    }
   ],
   "source": [
    "y_pred=classifier.predict(x_test)\n",
    "cm = confusion_matrix(y_test,y_pred)\n",
    "cm\n"
   ]
  },
  {
   "cell_type": "code",
   "execution_count": 80,
   "id": "d14089e4-6972-48a5-90c9-5f8c7674bc25",
   "metadata": {},
   "outputs": [
    {
     "name": "stdout",
     "output_type": "stream",
     "text": [
      "              precision    recall  f1-score   support\n",
      "\n",
      "           0       0.95      0.91      0.93        79\n",
      "           1       0.84      0.90      0.87        41\n",
      "\n",
      "    accuracy                           0.91       120\n",
      "   macro avg       0.89      0.91      0.90       120\n",
      "weighted avg       0.91      0.91      0.91       120\n",
      "\n"
     ]
    }
   ],
   "source": [
    "print(classification_report(y_test,y_pred))"
   ]
  },
  {
   "cell_type": "code",
   "execution_count": 82,
   "id": "b6063bd5-1b03-4f08-ab12-532212bc1dc9",
   "metadata": {},
   "outputs": [],
   "source": [
    "filename ='Regressor_RandomForset.sav'\n",
    "pickle.dump(classifier,open(filename,'wb'))\n",
    "load_model=pickle.load(open(filename,'rb'))\n",
    "\n"
   ]
  },
  {
   "cell_type": "code",
   "execution_count": 84,
   "id": "5704f8a4-22ec-4f9f-9a85-52f6cb3f6ca6",
   "metadata": {},
   "outputs": [
    {
     "name": "stderr",
     "output_type": "stream",
     "text": [
      "C:\\Users\\chida\\anaconda3\\Lib\\site-packages\\sklearn\\base.py:493: UserWarning: X does not have valid feature names, but RandomForestClassifier was fitted with feature names\n",
      "  warnings.warn(\n"
     ]
    },
    {
     "data": {
      "text/plain": [
       "array([1], dtype=int64)"
      ]
     },
     "execution_count": 84,
     "metadata": {},
     "output_type": "execute_result"
    }
   ],
   "source": [
    "load_model.predict([[46,41000,0]])"
   ]
  },
  {
   "cell_type": "code",
   "execution_count": 86,
   "id": "d0684022-acb7-436e-b49e-88d045b4e29c",
   "metadata": {},
   "outputs": [
    {
     "ename": "SyntaxError",
     "evalue": "unterminated string literal (detected at line 3) (733023200.py, line 3)",
     "output_type": "error",
     "traceback": [
      "\u001b[1;36m  Cell \u001b[1;32mIn[86], line 3\u001b[1;36m\u001b[0m\n\u001b[1;33m    Precision measures how accurate the model's positive predictions are.\u001b[0m\n\u001b[1;37m                                             ^\u001b[0m\n\u001b[1;31mSyntaxError\u001b[0m\u001b[1;31m:\u001b[0m unterminated string literal (detected at line 3)\n"
     ]
    }
   ],
   "source": [
    "Precision:\n",
    "\n",
    "Precision measures how accurate the model's positive predictions are.\n",
    "\n",
    "For Class 0: Precision = 0.95 → When the model predicts Class 0, it is correct 95% of the time.\n",
    "\n",
    "For Class 1: Precision = 0.84 → When the model predicts Class 1, it is correct 84% of the time.\n",
    "\n",
    "Recall:\n",
    "\n",
    "Recall measures how well the model identifies all relevant instances of a class.\n",
    "\n",
    "For Class 0: Recall = 0.91 → The model correctly identifies 91% of all actual Class 0 instances.\n",
    "\n",
    "For Class 1: Recall = 0.90 → The model correctly identifies 90% of all actual Class 1 instances.\n",
    "\n",
    "F1-Score:\n",
    "\n",
    "The F1-score is the harmonic mean of precision and recall. It provides a balanced measure of the model's performance for each class.\n",
    "\n",
    "For Class 0: F1-score = 0.93 → This indicates excellent performance for Class 0.\n",
    "\n",
    "For Class 1: F1-score = 0.87 → This indicates good performance for Class 1, but slightly lower than Class 0.\n",
    "\n",
    "Support:\n",
    "\n",
    "Support is the number of actual occurrences of each class in the dataset.\n",
    "\n",
    "For Class 0: Support = 79 → There are 79 instances of Class 0.\n",
    "\n",
    "For Class 1: Support = 41 → There are 41 instances of Class 1.\n",
    "\n",
    "Accuracy:\n",
    "\n",
    "Accuracy is the overall correctness of the model's predictions.\n",
    "\n",
    "Accuracy = 0.91 → The model is correct 91% of the time across all predictions.\n",
    "\n",
    "Macro Avg:\n",
    "\n",
    "Macro average is the unweighted average of precision, recall, and F1-score across both classes.\n",
    "\n",
    "Macro Avg Precision = 0.89, Recall = 0.91, F1-score = 0.90.\n",
    "\n",
    "Weighted Avg:\n",
    "\n",
    "Weighted average takes into account the number of instances in each class (support) when calculating the average.\n",
    "\n",
    "Weighted Avg Precision = 0.91, Recall = 0.91, F1-score = 0.91."
   ]
  },
  {
   "cell_type": "code",
   "execution_count": null,
   "id": "a2f2d79d-fa7d-40a5-be13-17a2c8a5e3d5",
   "metadata": {},
   "outputs": [],
   "source": []
  }
 ],
 "metadata": {
  "kernelspec": {
   "display_name": "Python [conda env:base] *",
   "language": "python",
   "name": "conda-base-py"
  },
  "language_info": {
   "codemirror_mode": {
    "name": "ipython",
    "version": 3
   },
   "file_extension": ".py",
   "mimetype": "text/x-python",
   "name": "python",
   "nbconvert_exporter": "python",
   "pygments_lexer": "ipython3",
   "version": "3.12.7"
  }
 },
 "nbformat": 4,
 "nbformat_minor": 5
}
