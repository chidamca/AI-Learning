{
 "cells": [
  {
   "cell_type": "code",
   "execution_count": 3,
   "id": "bb93f3de-c946-4529-8325-1a4c48e2a092",
   "metadata": {},
   "outputs": [],
   "source": [
    "import pandas as pd"
   ]
  },
  {
   "cell_type": "code",
   "execution_count": 5,
   "id": "0410fcf3-c478-42c0-972c-1667726e1e94",
   "metadata": {},
   "outputs": [],
   "source": [
    "dataset =pd.read_csv(\"Social_Network_Ads.csv\")"
   ]
  },
  {
   "cell_type": "code",
   "execution_count": 7,
   "id": "ef534d45-0ffb-4ca5-aae5-33e67b7747f4",
   "metadata": {},
   "outputs": [
    {
     "data": {
      "text/html": [
       "<div>\n",
       "<style scoped>\n",
       "    .dataframe tbody tr th:only-of-type {\n",
       "        vertical-align: middle;\n",
       "    }\n",
       "\n",
       "    .dataframe tbody tr th {\n",
       "        vertical-align: top;\n",
       "    }\n",
       "\n",
       "    .dataframe thead th {\n",
       "        text-align: right;\n",
       "    }\n",
       "</style>\n",
       "<table border=\"1\" class=\"dataframe\">\n",
       "  <thead>\n",
       "    <tr style=\"text-align: right;\">\n",
       "      <th></th>\n",
       "      <th>User ID</th>\n",
       "      <th>Gender</th>\n",
       "      <th>Age</th>\n",
       "      <th>EstimatedSalary</th>\n",
       "      <th>Purchased</th>\n",
       "    </tr>\n",
       "  </thead>\n",
       "  <tbody>\n",
       "    <tr>\n",
       "      <th>0</th>\n",
       "      <td>15624510</td>\n",
       "      <td>Male</td>\n",
       "      <td>19</td>\n",
       "      <td>19000</td>\n",
       "      <td>0</td>\n",
       "    </tr>\n",
       "    <tr>\n",
       "      <th>1</th>\n",
       "      <td>15810944</td>\n",
       "      <td>Male</td>\n",
       "      <td>35</td>\n",
       "      <td>20000</td>\n",
       "      <td>0</td>\n",
       "    </tr>\n",
       "    <tr>\n",
       "      <th>2</th>\n",
       "      <td>15668575</td>\n",
       "      <td>Female</td>\n",
       "      <td>26</td>\n",
       "      <td>43000</td>\n",
       "      <td>0</td>\n",
       "    </tr>\n",
       "    <tr>\n",
       "      <th>3</th>\n",
       "      <td>15603246</td>\n",
       "      <td>Female</td>\n",
       "      <td>27</td>\n",
       "      <td>57000</td>\n",
       "      <td>0</td>\n",
       "    </tr>\n",
       "    <tr>\n",
       "      <th>4</th>\n",
       "      <td>15804002</td>\n",
       "      <td>Male</td>\n",
       "      <td>19</td>\n",
       "      <td>76000</td>\n",
       "      <td>0</td>\n",
       "    </tr>\n",
       "    <tr>\n",
       "      <th>...</th>\n",
       "      <td>...</td>\n",
       "      <td>...</td>\n",
       "      <td>...</td>\n",
       "      <td>...</td>\n",
       "      <td>...</td>\n",
       "    </tr>\n",
       "    <tr>\n",
       "      <th>395</th>\n",
       "      <td>15691863</td>\n",
       "      <td>Female</td>\n",
       "      <td>46</td>\n",
       "      <td>41000</td>\n",
       "      <td>1</td>\n",
       "    </tr>\n",
       "    <tr>\n",
       "      <th>396</th>\n",
       "      <td>15706071</td>\n",
       "      <td>Male</td>\n",
       "      <td>51</td>\n",
       "      <td>23000</td>\n",
       "      <td>1</td>\n",
       "    </tr>\n",
       "    <tr>\n",
       "      <th>397</th>\n",
       "      <td>15654296</td>\n",
       "      <td>Female</td>\n",
       "      <td>50</td>\n",
       "      <td>20000</td>\n",
       "      <td>1</td>\n",
       "    </tr>\n",
       "    <tr>\n",
       "      <th>398</th>\n",
       "      <td>15755018</td>\n",
       "      <td>Male</td>\n",
       "      <td>36</td>\n",
       "      <td>33000</td>\n",
       "      <td>0</td>\n",
       "    </tr>\n",
       "    <tr>\n",
       "      <th>399</th>\n",
       "      <td>15594041</td>\n",
       "      <td>Female</td>\n",
       "      <td>49</td>\n",
       "      <td>36000</td>\n",
       "      <td>1</td>\n",
       "    </tr>\n",
       "  </tbody>\n",
       "</table>\n",
       "<p>400 rows × 5 columns</p>\n",
       "</div>"
      ],
      "text/plain": [
       "      User ID  Gender  Age  EstimatedSalary  Purchased\n",
       "0    15624510    Male   19            19000          0\n",
       "1    15810944    Male   35            20000          0\n",
       "2    15668575  Female   26            43000          0\n",
       "3    15603246  Female   27            57000          0\n",
       "4    15804002    Male   19            76000          0\n",
       "..        ...     ...  ...              ...        ...\n",
       "395  15691863  Female   46            41000          1\n",
       "396  15706071    Male   51            23000          1\n",
       "397  15654296  Female   50            20000          1\n",
       "398  15755018    Male   36            33000          0\n",
       "399  15594041  Female   49            36000          1\n",
       "\n",
       "[400 rows x 5 columns]"
      ]
     },
     "execution_count": 7,
     "metadata": {},
     "output_type": "execute_result"
    }
   ],
   "source": [
    "dataset"
   ]
  },
  {
   "cell_type": "code",
   "execution_count": 9,
   "id": "5dfc2e33-ad72-4cc4-89ef-9751ee3032eb",
   "metadata": {},
   "outputs": [],
   "source": [
    "dataset = pd.get_dummies(dataset,drop_first=True)\n",
    "dataset = dataset.drop(\"User ID\", axis=1)"
   ]
  },
  {
   "cell_type": "code",
   "execution_count": 11,
   "id": "2b41f799-9aa2-4a4a-8675-c8ea9d95d1ee",
   "metadata": {},
   "outputs": [],
   "source": [
    "independent = dataset[['Age', 'EstimatedSalary','Gender_Male']]\n",
    "dependent = dataset[['Purchased']]"
   ]
  },
  {
   "cell_type": "code",
   "execution_count": 13,
   "id": "ba678b33-1602-4c07-9fa7-b6935b4877eb",
   "metadata": {},
   "outputs": [
    {
     "data": {
      "text/plain": [
       "Index(['Age', 'EstimatedSalary', 'Purchased', 'Gender_Male'], dtype='object')"
      ]
     },
     "execution_count": 13,
     "metadata": {},
     "output_type": "execute_result"
    }
   ],
   "source": [
    "dataset.columns"
   ]
  },
  {
   "cell_type": "code",
   "execution_count": 15,
   "id": "70978050-58ac-4678-9815-549b8e182edb",
   "metadata": {},
   "outputs": [],
   "source": [
    "independent = dataset[['Age', 'EstimatedSalary', 'Gender_Male']]"
   ]
  },
  {
   "cell_type": "code",
   "execution_count": 17,
   "id": "2abfbad8-32a7-41e5-b270-5b64548600ed",
   "metadata": {},
   "outputs": [],
   "source": [
    "dependent =dataset[['Purchased']]"
   ]
  },
  {
   "cell_type": "code",
   "execution_count": 19,
   "id": "e8bbeaab-8f9b-4613-870c-280fbd7668d5",
   "metadata": {},
   "outputs": [],
   "source": [
    "from sklearn.model_selection import train_test_split\n",
    "x_train,x_test,y_train,y_test = train_test_split(independent,dependent,test_size=0.30, random_state=0)"
   ]
  },
  {
   "cell_type": "code",
   "execution_count": 21,
   "id": "d19b52e8-719d-4b88-9d96-8ef9789be7f9",
   "metadata": {},
   "outputs": [
    {
     "data": {
      "text/plain": [
       "Purchased\n",
       "0    257\n",
       "1    143\n",
       "Name: count, dtype: int64"
      ]
     },
     "execution_count": 21,
     "metadata": {},
     "output_type": "execute_result"
    }
   ],
   "source": [
    "dataset[\"Purchased\"].value_counts()"
   ]
  },
  {
   "cell_type": "code",
   "execution_count": 23,
   "id": "24650321-2c40-4c06-81f9-b9564742adb1",
   "metadata": {},
   "outputs": [],
   "source": [
    "from sklearn.svm import SVC\n",
    "model = SVC(\n",
    "    C=1.0,                # Regularization parameter\n",
    "    kernel=\"rbf\",         # Radial Basis Function kernel\n",
    "    gamma=\"scale\",        # Kernel coefficient\n",
    "    class_weight=\"balanced\",  # Handle imbalanced classes\n",
    "    probability=True,     # Enable probability estimates\n",
    "    random_state=42       # Seed for reproducibility\n",
    ")"
   ]
  },
  {
   "cell_type": "code",
   "execution_count": 25,
   "id": "aaaac522-f182-4465-a341-c16547d8a341",
   "metadata": {},
   "outputs": [
    {
     "name": "stderr",
     "output_type": "stream",
     "text": [
      "C:\\Users\\chida\\anaconda3\\Lib\\site-packages\\sklearn\\utils\\validation.py:1339: DataConversionWarning: A column-vector y was passed when a 1d array was expected. Please change the shape of y to (n_samples, ), for example using ravel().\n",
      "  y = column_or_1d(y, warn=True)\n"
     ]
    }
   ],
   "source": [
    "model.fit(x_train,y_train)\n",
    "y_pred =model.predict(x_test)\n"
   ]
  },
  {
   "cell_type": "code",
   "execution_count": 33,
   "id": "5ded2dfd-cb01-4c7d-ae88-3bd393abcba9",
   "metadata": {},
   "outputs": [
    {
     "data": {
      "text/plain": [
       "array([[77,  2],\n",
       "       [22, 19]], dtype=int64)"
      ]
     },
     "execution_count": 33,
     "metadata": {},
     "output_type": "execute_result"
    }
   ],
   "source": [
    "from sklearn.metrics import confusion_matrix\n",
    "cm = confusion_matrix(y_test,y_pred)\n",
    "cm"
   ]
  },
  {
   "cell_type": "code",
   "execution_count": 29,
   "id": "72a50222-433c-4522-815b-2cc9c4b972ee",
   "metadata": {},
   "outputs": [
    {
     "name": "stdout",
     "output_type": "stream",
     "text": [
      "              precision    recall  f1-score   support\n",
      "\n",
      "           0       0.78      0.97      0.87        79\n",
      "           1       0.90      0.46      0.61        41\n",
      "\n",
      "    accuracy                           0.80       120\n",
      "   macro avg       0.84      0.72      0.74       120\n",
      "weighted avg       0.82      0.80      0.78       120\n",
      "\n"
     ]
    }
   ],
   "source": [
    "from sklearn.metrics import classification_report\n",
    "print(classification_report(y_test, y_pred))"
   ]
  },
  {
   "cell_type": "code",
   "execution_count": null,
   "id": "fed63ca6-5a97-404a-9ec4-da698494e7b5",
   "metadata": {},
   "outputs": [],
   "source": [
    "Precision:\n",
    "\n",
    "Precision measures how accurate the model's positive predictions are.\n",
    "\n",
    "For Class 0: Precision = 0.78 → When the model predicts Class 0, it is correct 78% of the time.\n",
    "\n",
    "For Class 1: Precision = 0.90 → When the model predicts Class 1, it is correct 90% of the time.\n",
    "\n",
    "Recall:\n",
    "\n",
    "Recall measures how well the model identifies all relevant instances of a class.\n",
    "\n",
    "For Class 0: Recall = 0.97 → The model correctly identifies 97% of all actual Class 0 instances.\n",
    "\n",
    "For Class 1: Recall = 0.46 → The model correctly identifies 46% of all actual Class 1 instances.\n",
    "\n",
    "F1-Score:\n",
    "\n",
    "The F1-score is the harmonic mean of precision and recall. It provides a balanced measure of the model's performance for each class.\n",
    "\n",
    "For Class 0: F1-score = 0.87 → This indicates very good performance for Class 0.\n",
    "\n",
    "For Class 1: F1-score = 0.61 → This indicates moderate performance for Class 1.\n",
    "\n",
    "Support:\n",
    "\n",
    "Support is the number of actual occurrences of each class in the dataset.\n",
    "\n",
    "For Class 0: Support = 79 → There are 79 instances of Class 0.\n",
    "\n",
    "For Class 1: Support = 41 → There are 41 instances of Class 1.\n",
    "\n",
    "Accuracy:\n",
    "\n",
    "Accuracy is the overall correctness of the model's predictions.\n",
    "\n",
    "Accuracy = 0.80 → The model is correct 80% of the time across all predictions.\n",
    "\n",
    "Macro Avg:\n",
    "\n",
    "Macro average is the unweighted average of precision, recall, and F1-score across both classes.\n",
    "\n",
    "Macro Avg Precision = 0.84, Recall = 0.72, F1-score = 0.74.\n",
    "\n",
    "Weighted Avg:\n",
    "\n",
    "Weighted average takes into account the number of instances in each class (support) when calculating the average.\n",
    "\n",
    "Weighted Avg Precision = 0.82, Recall = 0.80, F1-score = 0.78.\n",
    "\n",
    "Interpretation:\n",
    "Class 0:\n",
    "\n",
    "The model performs very well for Class 0, with high recall (97%) and a good F1-score (0.87).\n",
    "\n",
    "However, precision is lower (78%), meaning the model has some false positives (incorrectly predicting Class 0 when it should be Class 1).\n",
    "\n",
    "Class 1:\n",
    "\n",
    "The model struggles with Class 1, as indicated by low recall (46%) and a moderate F1-score (0.61).\n",
    "\n",
    "Precision is high (90%), meaning when the model predicts Class 1, it is usually correct. However, it misses many actual Class 1 instances (low recall).\n",
    "\n",
    "Overall Performance:\n",
    "\n",
    "The model has an overall accuracy of 80%, which is decent but could be improved.\n",
    "\n",
    "The weighted averages for precision, recall, and F1-score are 0.82, 0.80, and 0.78, respectively, indicating balanced performance across both classes."
   ]
  },
  {
   "cell_type": "code",
   "execution_count": null,
   "id": "61473e0e-04e3-45c7-bb07-03f7e877a266",
   "metadata": {},
   "outputs": [],
   "source": []
  }
 ],
 "metadata": {
  "kernelspec": {
   "display_name": "Python [conda env:base] *",
   "language": "python",
   "name": "conda-base-py"
  },
  "language_info": {
   "codemirror_mode": {
    "name": "ipython",
    "version": 3
   },
   "file_extension": ".py",
   "mimetype": "text/x-python",
   "name": "python",
   "nbconvert_exporter": "python",
   "pygments_lexer": "ipython3",
   "version": "3.12.7"
  }
 },
 "nbformat": 4,
 "nbformat_minor": 5
}
