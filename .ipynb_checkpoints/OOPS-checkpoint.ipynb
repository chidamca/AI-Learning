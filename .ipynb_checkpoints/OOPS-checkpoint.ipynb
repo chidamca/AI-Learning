{
 "cells": [
  {
   "cell_type": "code",
   "execution_count": 1,
   "id": "6ec3e6b6-cbbd-4581-bf56-848aee8ce402",
   "metadata": {},
   "outputs": [],
   "source": [
    "class calculater():\n",
    "    def addition():\n",
    "        print(\"addition\")\n",
    "    def subtraction():\n",
    "        print(\"subtraction\")\n",
    "class oddEven():\n",
    "    def oddNumber():\n",
    "        print(\"addition\")\n",
    "    def evenN():\n",
    "        print(\"subtraction\")\n"
   ]
  },
  {
   "cell_type": "code",
   "execution_count": 2,
   "id": "0edc9bc8-3837-4fe4-b56d-87b08fc9c2ed",
   "metadata": {
    "panel-layout": {
     "height": 0,
     "visible": true,
     "width": 100
    }
   },
   "outputs": [
    {
     "name": "stdout",
     "output_type": "stream",
     "text": [
      "addition\n",
      "subtraction\n"
     ]
    }
   ],
   "source": [
    "calculater.addition()\n",
    "calculater.subtraction()\n"
   ]
  },
  {
   "cell_type": "code",
   "execution_count": 3,
   "id": "96b2dd16-9ef4-4730-972c-eed02b98b649",
   "metadata": {},
   "outputs": [],
   "source": [
    "from collection import Calculator"
   ]
  },
  {
   "cell_type": "code",
   "execution_count": 4,
   "id": "4f94f0cf-b522-477c-83d7-7144f6a50fb9",
   "metadata": {
    "scrolled": true
   },
   "outputs": [
    {
     "data": {
      "text/plain": [
       "2"
      ]
     },
     "execution_count": 4,
     "metadata": {},
     "output_type": "execute_result"
    }
   ],
   "source": [
    "calc = Calculator()\n",
    "calc.addition(1,1)\n"
   ]
  },
  {
   "cell_type": "code",
   "execution_count": 5,
   "id": "f57be575-2c3c-4ef6-bead-db5feb6fde80",
   "metadata": {},
   "outputs": [
    {
     "data": {
      "text/plain": [
       "0"
      ]
     },
     "execution_count": 5,
     "metadata": {},
     "output_type": "execute_result"
    }
   ],
   "source": [
    "calc.subtraction(1,1)"
   ]
  },
  {
   "cell_type": "code",
   "execution_count": 6,
   "id": "b49c31d3-1c5d-48af-a520-7a980c44f587",
   "metadata": {},
   "outputs": [
    {
     "data": {
      "text/plain": [
       "0.5"
      ]
     },
     "execution_count": 6,
     "metadata": {},
     "output_type": "execute_result"
    }
   ],
   "source": [
    "cal = Calculator()\n",
    "cal.division(10,20)"
   ]
  },
  {
   "cell_type": "code",
   "execution_count": 7,
   "id": "386a82b5-965c-484c-a2ed-8a17ef0f3d4a",
   "metadata": {},
   "outputs": [
    {
     "ename": "NameError",
     "evalue": "name 'OddEven' is not defined",
     "output_type": "error",
     "traceback": [
      "\u001b[1;31m---------------------------------------------------------------------------\u001b[0m",
      "\u001b[1;31mNameError\u001b[0m                                 Traceback (most recent call last)",
      "Cell \u001b[1;32mIn[7], line 1\u001b[0m\n\u001b[1;32m----> 1\u001b[0m OddEven()\u001b[38;5;241m.\u001b[39moddNumber(\u001b[38;5;241m11\u001b[39m)\n",
      "\u001b[1;31mNameError\u001b[0m: name 'OddEven' is not defined"
     ]
    }
   ],
   "source": [
    "cal.whoami(10)"
   ]
  },
  {
   "cell_type": "code",
   "execution_count": null,
   "id": "e8a108b2-d721-4e6d-b39c-0ca3c7576df6",
   "metadata": {},
   "outputs": [],
   "source": [
    "Calculator(1).whoAmI()"
   ]
  },
  {
   "cell_type": "code",
   "execution_count": null,
   "id": "bc57870d-df3d-4b4a-b08c-1aa8450bcc76",
   "metadata": {},
   "outputs": [],
   "source": []
  },
  {
   "cell_type": "code",
   "execution_count": null,
   "id": "c7285112-e0c6-4b69-8f8c-46c057ba0c3e",
   "metadata": {},
   "outputs": [],
   "source": []
  },
  {
   "cell_type": "code",
   "execution_count": null,
   "id": "813d78cc-43ee-413e-a5dc-9f6aeec6c2fa",
   "metadata": {},
   "outputs": [],
   "source": []
  }
 ],
 "metadata": {
  "kernelspec": {
   "display_name": "Python [conda env:base] *",
   "language": "python",
   "name": "conda-base-py"
  },
  "language_info": {
   "codemirror_mode": {
    "name": "ipython",
    "version": 3
   },
   "file_extension": ".py",
   "mimetype": "text/x-python",
   "name": "python",
   "nbconvert_exporter": "python",
   "pygments_lexer": "ipython3",
   "version": "3.12.7"
  },
  "panel-cell-order": [
   "0edc9bc8-3837-4fe4-b56d-87b08fc9c2ed"
  ]
 },
 "nbformat": 4,
 "nbformat_minor": 5
}
