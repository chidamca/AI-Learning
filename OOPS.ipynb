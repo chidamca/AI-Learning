{
 "cells": [
  {
   "cell_type": "code",
   "execution_count": 1,
   "id": "6ec3e6b6-cbbd-4581-bf56-848aee8ce402",
   "metadata": {},
   "outputs": [],
   "source": [
    "class calculater():\n",
    "    def addition():\n",
    "        print(\"addition\")\n",
    "    def subtraction():\n",
    "        print(\"subtraction\")\n",
    "class oddEven():\n",
    "    def oddNumber():\n",
    "        print(\"addition\")\n",
    "    def evenN():\n",
    "        print(\"subtraction\")\n"
   ]
  },
  {
   "cell_type": "code",
   "execution_count": 2,
   "id": "0edc9bc8-3837-4fe4-b56d-87b08fc9c2ed",
   "metadata": {
    "panel-layout": {
     "height": 0,
     "visible": true,
     "width": 100
    }
   },
   "outputs": [
    {
     "name": "stdout",
     "output_type": "stream",
     "text": [
      "addition\n",
      "subtraction\n"
     ]
    }
   ],
   "source": [
    "calculater.addition()\n",
    "calculater.subtraction()\n"
   ]
  },
  {
   "cell_type": "code",
   "execution_count": 3,
   "id": "96b2dd16-9ef4-4730-972c-eed02b98b649",
   "metadata": {},
   "outputs": [],
   "source": [
    "from collection import Calculator"
   ]
  },
  {
   "cell_type": "code",
   "execution_count": 4,
   "id": "4f94f0cf-b522-477c-83d7-7144f6a50fb9",
   "metadata": {
    "scrolled": true
   },
   "outputs": [
    {
     "name": "stdout",
     "output_type": "stream",
     "text": [
      "addition of two no is : 2\n",
      "0\n",
      "0.5\n",
      "am calculater\n"
     ]
    }
   ],
   "source": [
    "calc = Calculator()\n",
    "print(f\"addition of two no is : {calc.addition(1,1)}\")\n",
    "print(calc.subtraction(1,1))\n",
    "print(calc.division(10,20))\n",
    "calc.whoami()"
   ]
  },
  {
   "cell_type": "code",
   "execution_count": null,
   "id": "813d78cc-43ee-413e-a5dc-9f6aeec6c2fa",
   "metadata": {},
   "outputs": [],
   "source": []
  }
 ],
 "metadata": {
  "kernelspec": {
   "display_name": "Python [conda env:base] *",
   "language": "python",
   "name": "conda-base-py"
  },
  "language_info": {
   "codemirror_mode": {
    "name": "ipython",
    "version": 3
   },
   "file_extension": ".py",
   "mimetype": "text/x-python",
   "name": "python",
   "nbconvert_exporter": "python",
   "pygments_lexer": "ipython3",
   "version": "3.12.7"
  },
  "panel-cell-order": [
   "0edc9bc8-3837-4fe4-b56d-87b08fc9c2ed"
  ]
 },
 "nbformat": 4,
 "nbformat_minor": 5
}
