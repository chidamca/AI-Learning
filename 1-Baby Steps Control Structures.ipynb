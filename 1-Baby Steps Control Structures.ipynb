{
 "cells": [
  {
   "cell_type": "code",
   "execution_count": 1,
   "id": "c5a5fd42-6787-4006-aeaf-dffdd3663c42",
   "metadata": {},
   "outputs": [
    {
     "name": "stdout",
     "output_type": "stream",
     "text": [
      "Welcome to Assignment-1\n"
     ]
    }
   ],
   "source": [
    "print(\"Welcome to Assignment-1\")"
   ]
  },
  {
   "cell_type": "code",
   "execution_count": 3,
   "id": "41250464-04e0-4f38-85c4-544ea28d7081",
   "metadata": {},
   "outputs": [
    {
     "name": "stdin",
     "output_type": "stream",
     "text": [
      "Num1=  23\n",
      "Num1=  55\n"
     ]
    },
    {
     "name": "stdout",
     "output_type": "stream",
     "text": [
      "Add= 78\n"
     ]
    }
   ],
   "source": [
    "print(\"Add=\", int(input(\"Num1= \")) + int(input(\"Num1= \")))"
   ]
  },
  {
   "cell_type": "code",
   "execution_count": 5,
   "id": "102881d9-125d-4b80-bea1-ed2815f31475",
   "metadata": {},
   "outputs": [
    {
     "name": "stdin",
     "output_type": "stream",
     "text": [
      "Enter the BMI Index:  33\n"
     ]
    },
    {
     "name": "stdout",
     "output_type": "stream",
     "text": [
      "Obese Class I\n"
     ]
    }
   ],
   "source": [
    "def switch_example(option):\n",
    "    if option < 16:\n",
    "        return \"Severe Thinness\"\n",
    "    elif option < 17.5:\n",
    "        return \"Moderate Thinness\"\n",
    "    elif option < 18.5:\n",
    "        return \"Mild Thinness\"\n",
    "    elif option < 25:\n",
    "        return \"Normal\"\n",
    "    elif option < 30:\n",
    "        return \"Overweight\"\n",
    "    elif option < 35:\n",
    "        return \"Obese Class I\"\n",
    "    elif option < 40:\n",
    "        return \"Obese Class II\"\n",
    "    elif option >= 40:\n",
    "        return \"Obese Class III\"\n",
    "\n",
    "# Test the function\n",
    "print(switch_example(float(input(\"Enter the BMI Index: \"))))"
   ]
  },
  {
   "cell_type": "code",
   "execution_count": null,
   "id": "6c33e690-7824-405d-8e08-8469900a4935",
   "metadata": {},
   "outputs": [],
   "source": []
  }
 ],
 "metadata": {
  "kernelspec": {
   "display_name": "Python [conda env:base] *",
   "language": "python",
   "name": "conda-base-py"
  },
  "language_info": {
   "codemirror_mode": {
    "name": "ipython",
    "version": 3
   },
   "file_extension": ".py",
   "mimetype": "text/x-python",
   "name": "python",
   "nbconvert_exporter": "python",
   "pygments_lexer": "ipython3",
   "version": "3.12.7"
  }
 },
 "nbformat": 4,
 "nbformat_minor": 5
}
